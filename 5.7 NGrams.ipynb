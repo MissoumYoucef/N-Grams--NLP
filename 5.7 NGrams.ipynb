{
 "cells": [
  {
   "cell_type": "code",
   "execution_count": 11,
   "metadata": {},
   "outputs": [
    {
     "name": "stdout",
     "output_type": "stream",
     "text": [
      "('I', ' ')\n",
      "(' ', 'a')\n",
      "('a', 'm')\n",
      "('m', ' ')\n",
      "(' ', 'M')\n",
      "('M', 'i')\n",
      "('i', 's')\n",
      "('s', 's')\n",
      "('s', 'o')\n",
      "('o', 'u')\n",
      "('u', 'm')\n",
      "('m', ' ')\n",
      "(' ', 'y')\n",
      "('y', 'o')\n",
      "('o', 'u')\n",
      "('u', 'c')\n",
      "('c', 'e')\n",
      "('e', 'f')\n",
      "('f', ',')\n",
      "(',', ' ')\n",
      "(' ', 'I')\n",
      "('I', ' ')\n",
      "(' ', 'a')\n",
      "('a', 'm')\n",
      "('m', ' ')\n",
      "(' ', 'a')\n",
      "('a', 'n')\n",
      "('n', ' ')\n",
      "(' ', 'A')\n",
      "('A', 'I')\n",
      "('I', ' ')\n",
      "(' ', 'E')\n",
      "('E', 'n')\n",
      "('n', 'g')\n",
      "('g', 'i')\n",
      "('i', 'n')\n",
      "('n', 'e')\n",
      "('e', 'e')\n",
      "('e', 'r')\n"
     ]
    }
   ],
   "source": [
    "import nltk as nl\n",
    "from nltk.util import ngrams\n",
    "\n",
    "string = \"I am Missoum youcef, I am an AI Engineer\"\n",
    "bigrams1 = nl.bigrams(string)\n",
    "for i in bigrams1: \n",
    "    print(i)\n",
    "        "
   ]
  },
  {
   "cell_type": "code",
   "execution_count": 12,
   "metadata": {},
   "outputs": [
    {
     "name": "stdout",
     "output_type": "stream",
     "text": [
      "('I', ' ')\n",
      "(' ', 'a')\n",
      "('a', 'm')\n",
      "('m', ' ')\n",
      "(' ', 'M')\n",
      "('M', 'i')\n",
      "('i', 's')\n",
      "('s', 's')\n",
      "('s', 'o')\n",
      "('o', 'u')\n",
      "('u', 'm')\n",
      "('m', ' ')\n",
      "(' ', 'y')\n",
      "('y', 'o')\n",
      "('o', 'u')\n",
      "('u', 'c')\n",
      "('c', 'e')\n",
      "('e', 'f')\n",
      "('f', ',')\n",
      "(',', ' ')\n",
      "(' ', 'I')\n",
      "('I', ' ')\n",
      "(' ', 'a')\n",
      "('a', 'm')\n",
      "('m', ' ')\n",
      "(' ', 'a')\n",
      "('a', 'n')\n",
      "('n', ' ')\n",
      "(' ', 'A')\n",
      "('A', 'I')\n",
      "('I', ' ')\n",
      "(' ', 'E')\n",
      "('E', 'n')\n",
      "('n', 'g')\n",
      "('g', 'i')\n",
      "('i', 'n')\n",
      "('n', 'e')\n",
      "('e', 'e')\n",
      "('e', 'r')\n"
     ]
    }
   ],
   "source": [
    "bigrams2 = ngrams(string,2)\n",
    "for i in bigrams2: \n",
    "    print(i)"
   ]
  },
  {
   "cell_type": "code",
   "execution_count": 13,
   "metadata": {},
   "outputs": [
    {
     "name": "stdout",
     "output_type": "stream",
     "text": [
      "('I', 'am')\n",
      "('am', 'Missoum')\n",
      "('Missoum', 'youcef,')\n",
      "('youcef,', 'I')\n",
      "('I', 'am')\n",
      "('am', 'an')\n",
      "('an', 'AI')\n",
      "('AI', 'Engineer')\n",
      "========================\n",
      "('I', 'am')\n",
      "('am', 'Missoum')\n",
      "('Missoum', 'youcef,')\n",
      "('youcef,', 'I')\n",
      "('I', 'am')\n",
      "('am', 'an')\n",
      "('an', 'AI')\n",
      "('AI', 'Engineer')\n"
     ]
    }
   ],
   "source": [
    "bigrams1 = nl.bigrams(string.split())\n",
    "bigrams2 = ngrams(string.split(),2)\n",
    "for i in bigrams1: \n",
    "    print(i)\n",
    "print('========================')\n",
    "for i in bigrams2: \n",
    "    print(i)\n",
    "        "
   ]
  },
  {
   "cell_type": "code",
   "execution_count": 14,
   "metadata": {},
   "outputs": [
    {
     "name": "stdout",
     "output_type": "stream",
     "text": [
      "('I', 'am', 'Missoum')\n",
      "('am', 'Missoum', 'youcef,')\n",
      "('Missoum', 'youcef,', 'I')\n",
      "('youcef,', 'I', 'am')\n",
      "('I', 'am', 'an')\n",
      "('am', 'an', 'AI')\n",
      "('an', 'AI', 'Engineer')\n",
      "========================\n",
      "('I', 'am', 'Missoum')\n",
      "('am', 'Missoum', 'youcef,')\n",
      "('Missoum', 'youcef,', 'I')\n",
      "('youcef,', 'I', 'am')\n",
      "('I', 'am', 'an')\n",
      "('am', 'an', 'AI')\n",
      "('an', 'AI', 'Engineer')\n"
     ]
    }
   ],
   "source": [
    "trigrams1 = nl.trigrams(string.split())\n",
    "trigrams2 = ngrams(string.split(),3)\n",
    "for i in trigrams1: \n",
    "    print(i)\n",
    "print('========================')\n",
    "for i in trigrams2: \n",
    "    print(i)"
   ]
  },
  {
   "cell_type": "code",
   "execution_count": 15,
   "metadata": {},
   "outputs": [
    {
     "name": "stdout",
     "output_type": "stream",
     "text": [
      "('I', 'am', 'Missoum', 'youcef,')\n",
      "('am', 'Missoum', 'youcef,', 'I')\n",
      "('Missoum', 'youcef,', 'I', 'am')\n",
      "('youcef,', 'I', 'am', 'an')\n",
      "('I', 'am', 'an', 'AI')\n",
      "('am', 'an', 'AI', 'Engineer')\n"
     ]
    }
   ],
   "source": [
    "fourgrams = ngrams(string.split(),4)\n",
    "for i in fourgrams: \n",
    "    print(i)"
   ]
  },
  {
   "cell_type": "code",
   "execution_count": 19,
   "metadata": {},
   "outputs": [
    {
     "name": "stdout",
     "output_type": "stream",
     "text": [
      "('I', 'am', 'Missoum', 'youcef,', 'I', 'am', 'an', 'AI')\n",
      "('am', 'Missoum', 'youcef,', 'I', 'am', 'an', 'AI', 'Engineer')\n"
     ]
    }
   ],
   "source": [
    "tengrams = ngrams(string.split(),8)\n",
    "for i in tengrams: \n",
    "    print(i)"
   ]
  },
  {
   "cell_type": "code",
   "execution_count": 21,
   "metadata": {},
   "outputs": [],
   "source": [
    "tengrams = ngrams(string.split(),12)\n",
    "for i in tengrams: \n",
    "    print(i)"
   ]
  },
  {
   "cell_type": "code",
   "execution_count": 42,
   "metadata": {},
   "outputs": [
    {
     "data": {
      "text/plain": [
       "<itertools.islice at 0x2b96c0baf70>"
      ]
     },
     "execution_count": 42,
     "metadata": {},
     "output_type": "execute_result"
    }
   ],
   "source": [
    "from itertools import  islice, tee\n",
    "islice(string,3)"
   ]
  },
  {
   "cell_type": "code",
   "execution_count": 43,
   "metadata": {},
   "outputs": [
    {
     "name": "stdout",
     "output_type": "stream",
     "text": [
      "I\n",
      " \n",
      "a\n"
     ]
    }
   ],
   "source": [
    "for characters in islice(string,3):\n",
    "    print(characters)"
   ]
  },
  {
   "cell_type": "code",
   "execution_count": 48,
   "metadata": {},
   "outputs": [
    {
     "name": "stdout",
     "output_type": "stream",
     "text": [
      "<itertools._tee object at 0x000002B96D675A00>\n",
      "<itertools._tee object at 0x000002B96C0B3280>\n",
      "<itertools._tee object at 0x000002B96D66AFC0>\n"
     ]
    }
   ],
   "source": [
    "for characters in tee(string,3):\n",
    "    print(characters)"
   ]
  },
  {
   "cell_type": "code",
   "execution_count": 49,
   "metadata": {},
   "outputs": [
    {
     "data": {
      "text/plain": [
       "[('I', ' ', 'a'),\n",
       " (' ', 'a', 'm'),\n",
       " ('a', 'm', ' '),\n",
       " ('m', ' ', 'M'),\n",
       " (' ', 'M', 'i'),\n",
       " ('M', 'i', 's'),\n",
       " ('i', 's', 's'),\n",
       " ('s', 's', 'o'),\n",
       " ('s', 'o', 'u'),\n",
       " ('o', 'u', 'm'),\n",
       " ('u', 'm', ' '),\n",
       " ('m', ' ', 'y'),\n",
       " (' ', 'y', 'o'),\n",
       " ('y', 'o', 'u'),\n",
       " ('o', 'u', 'c'),\n",
       " ('u', 'c', 'e'),\n",
       " ('c', 'e', 'f'),\n",
       " ('e', 'f', ','),\n",
       " ('f', ',', ' '),\n",
       " (',', ' ', 'I'),\n",
       " (' ', 'I', ' '),\n",
       " ('I', ' ', 'a'),\n",
       " (' ', 'a', 'm'),\n",
       " ('a', 'm', ' '),\n",
       " ('m', ' ', 'a'),\n",
       " (' ', 'a', 'n'),\n",
       " ('a', 'n', ' '),\n",
       " ('n', ' ', 'A'),\n",
       " (' ', 'A', 'I'),\n",
       " ('A', 'I', ' '),\n",
       " ('I', ' ', 'E'),\n",
       " (' ', 'E', 'n'),\n",
       " ('E', 'n', 'g'),\n",
       " ('n', 'g', 'i'),\n",
       " ('g', 'i', 'n'),\n",
       " ('i', 'n', 'e'),\n",
       " ('n', 'e', 'e'),\n",
       " ('e', 'e', 'r')]"
      ]
     },
     "execution_count": 49,
     "metadata": {},
     "output_type": "execute_result"
    }
   ],
   "source": [
    "N = 3\n",
    "# Zips the elements from each iterator at the same position, creating tuples of consecutive N elements as trigrams\n",
    "trigrams = zip(*(islice(seq, index, None) for index, seq in enumerate(tee(string, N))))\n",
    "list(trigrams)"
   ]
  },
  {
   "cell_type": "code",
   "execution_count": 50,
   "metadata": {},
   "outputs": [
    {
     "data": {
      "text/plain": [
       "[('I', 'am', 'Missoum'),\n",
       " ('am', 'Missoum', 'youcef,'),\n",
       " ('Missoum', 'youcef,', 'I'),\n",
       " ('youcef,', 'I', 'am'),\n",
       " ('I', 'am', 'an'),\n",
       " ('am', 'an', 'AI'),\n",
       " ('an', 'AI', 'Engineer')]"
      ]
     },
     "execution_count": 50,
     "metadata": {},
     "output_type": "execute_result"
    }
   ],
   "source": [
    "trigrams = zip(*(islice(seq, index, None) for index, seq in enumerate(tee(string.split(), N))))\n",
    "list(trigrams)"
   ]
  },
  {
   "cell_type": "code",
   "execution_count": 51,
   "metadata": {},
   "outputs": [
    {
     "data": {
      "text/plain": [
       "[['I', 'am', 'Missoum', 'youcef,'],\n",
       " ['am', 'Missoum', 'youcef,', 'I'],\n",
       " ['Missoum', 'youcef,', 'I', 'am'],\n",
       " ['youcef,', 'I', 'am', 'an'],\n",
       " ['I', 'am', 'an', 'AI'],\n",
       " ['am', 'an', 'AI', 'Engineer']]"
      ]
     },
     "execution_count": 51,
     "metadata": {},
     "output_type": "execute_result"
    }
   ],
   "source": [
    "N = 4\n",
    "grams = [string.split()[i:i+N] for i in range(len(string.split())-N+1)]\n",
    "grams"
   ]
  },
  {
   "cell_type": "code",
   "execution_count": null,
   "metadata": {},
   "outputs": [],
   "source": []
  }
 ],
 "metadata": {
  "kernelspec": {
   "display_name": "Python 3",
   "language": "python",
   "name": "python3"
  },
  "language_info": {
   "codemirror_mode": {
    "name": "ipython",
    "version": 3
   },
   "file_extension": ".py",
   "mimetype": "text/x-python",
   "name": "python",
   "nbconvert_exporter": "python",
   "pygments_lexer": "ipython3",
   "version": "3.11.2"
  }
 },
 "nbformat": 4,
 "nbformat_minor": 4
}
